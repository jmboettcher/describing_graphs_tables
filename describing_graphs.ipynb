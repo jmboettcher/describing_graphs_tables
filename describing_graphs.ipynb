{
 "cells": [
  {
   "cell_type": "code",
   "execution_count": 1,
   "metadata": {},
   "outputs": [],
   "source": [
    "import pandas as pd\n",
    "import timeseries_descs as d"
   ]
  },
  {
   "cell_type": "code",
   "execution_count": 2,
   "metadata": {},
   "outputs": [],
   "source": [
    "# TODO make sure there's more than 1 time point\n",
    "# TODO ValueA was at a peak in 2004, at 8\n",
    "# incorporate units"
   ]
  },
  {
   "cell_type": "code",
   "execution_count": 3,
   "metadata": {},
   "outputs": [],
   "source": [
    "ts = pd.read_csv(\"timeseries_short.csv\") "
   ]
  },
  {
   "cell_type": "code",
   "execution_count": 4,
   "metadata": {},
   "outputs": [
    {
     "data": {
      "text/html": [
       "<div>\n",
       "<style scoped>\n",
       "    .dataframe tbody tr th:only-of-type {\n",
       "        vertical-align: middle;\n",
       "    }\n",
       "\n",
       "    .dataframe tbody tr th {\n",
       "        vertical-align: top;\n",
       "    }\n",
       "\n",
       "    .dataframe thead th {\n",
       "        text-align: right;\n",
       "    }\n",
       "</style>\n",
       "<table border=\"1\" class=\"dataframe\">\n",
       "  <thead>\n",
       "    <tr style=\"text-align: right;\">\n",
       "      <th></th>\n",
       "      <th>Year</th>\n",
       "      <th>ValueA</th>\n",
       "      <th>ValueB</th>\n",
       "    </tr>\n",
       "  </thead>\n",
       "  <tbody>\n",
       "    <tr>\n",
       "      <th>0</th>\n",
       "      <td>2000</td>\n",
       "      <td>3</td>\n",
       "      <td>260</td>\n",
       "    </tr>\n",
       "    <tr>\n",
       "      <th>1</th>\n",
       "      <td>2001</td>\n",
       "      <td>4</td>\n",
       "      <td>270</td>\n",
       "    </tr>\n",
       "    <tr>\n",
       "      <th>2</th>\n",
       "      <td>2003</td>\n",
       "      <td>7</td>\n",
       "      <td>290</td>\n",
       "    </tr>\n",
       "    <tr>\n",
       "      <th>3</th>\n",
       "      <td>2004</td>\n",
       "      <td>8</td>\n",
       "      <td>210</td>\n",
       "    </tr>\n",
       "  </tbody>\n",
       "</table>\n",
       "</div>"
      ],
      "text/plain": [
       "   Year  ValueA  ValueB\n",
       "0  2000       3     260\n",
       "1  2001       4     270\n",
       "2  2003       7     290\n",
       "3  2004       8     210"
      ]
     },
     "execution_count": 4,
     "metadata": {},
     "output_type": "execute_result"
    }
   ],
   "source": [
    "ts"
   ]
  },
  {
   "cell_type": "code",
   "execution_count": 5,
   "metadata": {},
   "outputs": [
    {
     "name": "stdout",
     "output_type": "stream",
     "text": [
      "ValueA increased from 3 in 2000 to 8 in 2004.\n",
      "Within this year range, we were able to capture data at 4 years (2000, 2001, 2003, and 2004), forming 3 intervals. ValueA increased in all of these recorded intervals, showing the greatest average increase in ValueA per year of 1.5 in 2001-2003. \n",
      "ValueA was at its highest in 2004 at 8. ValueA was at its lowest in 2000 at 3. \n"
     ]
    }
   ],
   "source": [
    "x = \"Year\"\n",
    "y = \"ValueA\"\n",
    "print(d.describe_overarching_change(x,y,ts))\n",
    "print(d.describe_interval_changes(x,y,ts))\n",
    "print(d.describe_max_min(x,y,ts))"
   ]
  },
  {
   "cell_type": "code",
   "execution_count": 6,
   "metadata": {},
   "outputs": [
    {
     "name": "stdout",
     "output_type": "stream",
     "text": [
      "ValueB decreased from 260 in 2000 to 210 in 2004.\n",
      "Within this year range, we were able to capture data at 4 years (2000, 2001, 2003, and 2004), forming 3 intervals. ValueB increased in 2 of these recorded intervals, showing the greatest average increase in ValueB per year of 10.0 in 2000-2001 and 2001-2003. ValueB decreased in 1 of these recorded intervals, showing the greatest average decrease in ValueB per year of -80.0 in 2003-2004. \n",
      "ValueB was at its highest in 2003 at 290. ValueB was at its lowest in 2004 at 210. \n"
     ]
    }
   ],
   "source": [
    "x = \"Year\"\n",
    "y2 = \"ValueB\"\n",
    "print(d.describe_overarching_change(x,y2,ts))\n",
    "print(d.describe_interval_changes(x,y2,ts))\n",
    "print(d.describe_max_min(x,y2,ts))"
   ]
  },
  {
   "cell_type": "code",
   "execution_count": 7,
   "metadata": {},
   "outputs": [],
   "source": [
    "ts = pd.read_csv(\"timeseries_long.csv\") "
   ]
  },
  {
   "cell_type": "code",
   "execution_count": 8,
   "metadata": {},
   "outputs": [
    {
     "name": "stdout",
     "output_type": "stream",
     "text": [
      "ValueA increased from 3 in 2000 to 7 in 2007.\n",
      "Within this year range, we were able to capture data at 7 years (2000, 2001, 2003, 2004, 2005, 2006, and 2007), forming 6 intervals. ValueA increased in 5 of these recorded intervals, showing the greatest average increase in ValueA per year of 2.0 in 2004-2005 and 2006-2007. ValueA decreased in 1 of these recorded intervals, showing the greatest average decrease in ValueA per year of -5.0 in 2005-2006. \n",
      "ValueA was at its highest in 2005 at 10. ValueA was at its lowest in 2000 at 3. \n"
     ]
    }
   ],
   "source": [
    "x = \"Year\"\n",
    "y = \"ValueA\"\n",
    "print(d.describe_overarching_change(x,y,ts))\n",
    "print(d.describe_interval_changes(x,y,ts))\n",
    "print(d.describe_max_min(x,y,ts))"
   ]
  },
  {
   "cell_type": "code",
   "execution_count": 9,
   "metadata": {},
   "outputs": [
    {
     "name": "stdout",
     "output_type": "stream",
     "text": [
      "ValueB increased from 260 in 2000 to 300 in 2007.\n",
      "Within this year range, we were able to capture data at 7 years (2000, 2001, 2003, 2004, 2005, 2006, and 2007), forming 6 intervals. ValueB increased in 4 of these recorded intervals, showing the greatest average increase in ValueB per year of 109.0 in 2006-2007. ValueB decreased in 2 of these recorded intervals, showing the greatest average decrease in ValueB per year of -80.0 in 2003-2004. \n",
      "ValueB was at its highest in 2007 at 300. ValueB was at its lowest in 2005 at 170. \n"
     ]
    }
   ],
   "source": [
    "x = \"Year\"\n",
    "y2 = \"ValueB\"\n",
    "print(d.describe_overarching_change(x,y2,ts))\n",
    "print(d.describe_interval_changes(x,y2,ts))\n",
    "print(d.describe_max_min(x,y2,ts))"
   ]
  },
  {
   "cell_type": "code",
   "execution_count": null,
   "metadata": {},
   "outputs": [],
   "source": []
  }
 ],
 "metadata": {
  "kernelspec": {
   "display_name": "Python 3",
   "language": "python",
   "name": "python3"
  },
  "language_info": {
   "codemirror_mode": {
    "name": "ipython",
    "version": 3
   },
   "file_extension": ".py",
   "mimetype": "text/x-python",
   "name": "python",
   "nbconvert_exporter": "python",
   "pygments_lexer": "ipython3",
   "version": "3.7.3"
  }
 },
 "nbformat": 4,
 "nbformat_minor": 2
}
